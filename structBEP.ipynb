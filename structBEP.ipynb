{
 "cells": [
  {
   "cell_type": "code",
   "execution_count": 1,
   "metadata": {},
   "outputs": [],
   "source": [
    "import os\n",
    "import itertools\n",
    "from random import *\n",
    "from sklearn.metrics import average_precision_score\n",
    "from sklearn.metrics import roc_auc_score\n",
    "import numpy as np\n",
    "import tensorflow as tf\n",
    "from tensorflow.keras.preprocessing.text import Tokenizer\n",
    "from tensorflow.keras.preprocessing.sequence import pad_sequences\n",
    "\n",
    "from tensorflow.keras.callbacks import EarlyStopping\n",
    "from tensorflow.keras.callbacks import ModelCheckpoint"
   ]
  },
  {
   "cell_type": "code",
   "execution_count": 2,
   "metadata": {},
   "outputs": [],
   "source": [
    "from tokenizers import (\n",
    "    decoders,\n",
    "    models,\n",
    "    normalizers,\n",
    "    pre_tokenizers,\n",
    "    processors,\n",
    "    trainers,\n",
    "    Tokenizer,\n",
    ")"
   ]
  },
  {
   "cell_type": "code",
   "execution_count": 3,
   "metadata": {},
   "outputs": [],
   "source": [
    "# Predicted secondary structures are saved in the dataset\n",
    "datasetnames = [\"ALKBH5_Baltz2012\",\"C17ORF85_Baltz2012\",\"C22ORF28_Baltz2012\",\"CAPRIN1_Baltz2012\",\"CLIPSEQ_AGO2\",\n",
    "                \"CLIPSEQ_ELAVL1\",\"CLIPSEQ_SFRS1\",\"ICLIP_HNRNPC\",\"ICLIP_TDP43\",\"ICLIP_TIA1\",\"ICLIP_TIAL1\",\"PARCLIP_AGO1234\",\n",
    "                \"PARCLIP_ELAVL1\",\"PARCLIP_ELAVL1A\",\"PARCLIP_EWSR1\",\"PARCLIP_FUS\",\"PARCLIP_HUR\",\"PARCLIP_IGF2BP123\",\n",
    "                \"PARCLIP_MOV10_Sievers\",\"PARCLIP_PUM2\",\"PARCLIP_QKI\",\"PARCLIP_TAF15\",\"PTBv1\",\"ZC3H7B_Baltz2012\"]"
   ]
  },
  {
   "cell_type": "code",
   "execution_count": 4,
   "metadata": {},
   "outputs": [],
   "source": [
    "kmer=4\n",
    "save_name=\"structBPE.json\""
   ]
  },
  {
   "cell_type": "markdown",
   "metadata": {},
   "source": [
    "## Data pre-processing"
   ]
  },
  {
   "cell_type": "code",
   "execution_count": 5,
   "metadata": {},
   "outputs": [],
   "source": [
    "def readFa(fa):\n",
    "    with open(fa,'r') as FA:\n",
    "        seqName,seq,struct_seq='','',''\n",
    "        while 1:\n",
    "            line=FA.readline()\n",
    "            line=line.strip('\\n')\n",
    "            if (line.startswith('>') or not line) and seqName:\n",
    "                yield((seqName,seq,struct_seq))\n",
    "            if line.startswith('>'):\n",
    "                seqName = line[1:]\n",
    "                seq=''\n",
    "                struct_seq=''\n",
    "            elif line.startswith('(') or line.startswith('.'):\n",
    "                struct_seq+=line\n",
    "            else:\n",
    "                seq+=line\n",
    "            if not line:break"
   ]
  },
  {
   "cell_type": "code",
   "execution_count": 6,
   "metadata": {},
   "outputs": [],
   "source": [
    "def struct_to_seq(struct):\n",
    "    ans = ''\n",
    "    stack = []\n",
    "    flag = 0\n",
    "    for index in range(0,len(struct)):\n",
    "        if struct[index] == '(':\n",
    "            ans = ans + 'S'\n",
    "            stack.append('(')\n",
    "            flag = 0\n",
    "        elif struct[index] == ')':\n",
    "            ans = ans + 'S'\n",
    "            stack.pop()\n",
    "            flag = 1\n",
    "        else:\n",
    "            if len(stack) == 0:\n",
    "                if struct.count('(',0,index) == 0 or struct.count(')',index,len(struct)) == 0:\n",
    "                    ans = ans + 'F'\n",
    "                else:\n",
    "                    ans = ans + 'J'\n",
    "            else:\n",
    "                if flag == 1:\n",
    "                    ans = ans + 'M'\n",
    "                else:\n",
    "                    for i in range(index, len(struct)):\n",
    "                        if struct[i] == ')':\n",
    "                            ans = ans + 'H'\n",
    "                            break\n",
    "                        elif struct[i] == '(':\n",
    "                            ans = ans + 'M'\n",
    "                            break\n",
    "    return ans"
   ]
  },
  {
   "cell_type": "code",
   "execution_count": 7,
   "metadata": {},
   "outputs": [],
   "source": [
    "def struct_to_kmer(sentence, kmer):\n",
    "    ans = ''\n",
    "    for i in range(0,len(sentence)-kmer+1):\n",
    "        ans = ans + sentence[i:i+kmer] + ' '\n",
    "    return ans"
   ]
  },
  {
   "cell_type": "code",
   "execution_count": null,
   "metadata": {},
   "outputs": [],
   "source": [
    "training_struct_positives = []\n",
    "for datasetname in datasetnames:\n",
    "    # Read the positive example\n",
    "    fa = \"Addresses where the projected secondary structure is stored\"\n",
    "    for seqName, seq, struct_seq in readFa(fa):\n",
    "        if len(seq) > 501:\n",
    "            continue\n",
    "        index = seq.find(\"N\")  \n",
    "        struct_seq = struct_seq[:index]  \n",
    "        struct_seq=struct_to_seq(struct_seq)\n",
    "        training_struct_positives.append(struct_to_kmer(struct_seq, kmer))"
   ]
  },
  {
   "cell_type": "markdown",
   "metadata": {},
   "source": [
    "## Training BPE"
   ]
  },
  {
   "cell_type": "code",
   "execution_count": 9,
   "metadata": {},
   "outputs": [],
   "source": [
    "# Preparing the training data, BPE was trained using the training set positive examples, as the focus was on learning the structural features of RNAs with binding properties\n",
    "train_data = training_struct_positives\n",
    "tokenizer = Tokenizer(models.BPE())\n",
    "tokenizer.pre_tokenizer = pre_tokenizers.Whitespace()"
   ]
  },
  {
   "cell_type": "code",
   "execution_count": 10,
   "metadata": {},
   "outputs": [],
   "source": [
    "# Training BPE\n",
    "trainer = trainers.BpeTrainer(special_tokens=[\"[PAD]\", \"[MASK]\"])\n",
    "tokenizer.train_from_iterator(train_data, trainer=trainer)\n",
    "\n",
    "# Saving Models\n",
    "tokenizer.save(save_name)"
   ]
  }
 ],
 "metadata": {
  "kernelspec": {
   "display_name": "Python 3",
   "language": "python",
   "name": "python3"
  },
  "language_info": {
   "codemirror_mode": {
    "name": "ipython",
    "version": 3
   },
   "file_extension": ".py",
   "mimetype": "text/x-python",
   "name": "python",
   "nbconvert_exporter": "python",
   "pygments_lexer": "ipython3",
   "version": "3.8.8"
  }
 },
 "nbformat": 4,
 "nbformat_minor": 2
}
